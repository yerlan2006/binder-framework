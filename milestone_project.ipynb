{
 "cells": [
  {
   "cell_type": "code",
   "execution_count": 191,
   "id": "58f3492a",
   "metadata": {},
   "outputs": [
    {
     "name": "stdout",
     "output_type": "stream",
     "text": [
      "                               Company Name    company contact  \\\n",
      "0                            1 State Street      David Neiburg   \n",
      "1                            100 Church LLC  Edward A. Carroll   \n",
      "2                      100 Wall Investments       Jerry Branam   \n",
      "3               1-10 Bush Terminal Owner LP     Andrew Kimball   \n",
      "4  120 Broadway Acquisitions JV, LLC (Ldmk)        Carl Letich   \n",
      "\n",
      "               company email company phone                Address      City  \\\n",
      "0     eskoblo@energyspec.com    7186779077          1114 Avenue J  Brooklyn   \n",
      "1                        NaN    2125663000      100 Church Street        NY   \n",
      "2                        NaN    2122487160         96 Wall Street  New York   \n",
      "3  akimball@industrycity.com    3474178429  220 36th St, Suite 2A  Brooklyn   \n",
      "4      clettich@silvprop.com    2124064020           120 Broadway  New York   \n",
      "\n",
      "  State  Postcode    Industry  \\\n",
      "0    NY     11230  Commercial   \n",
      "1    NY     10007  Commercial   \n",
      "2    NY     10005    Landlord   \n",
      "3    NY     11232    Landlord   \n",
      "4    NY     10271  Commercial   \n",
      "\n",
      "                                      Industry descr  ...  \\\n",
      "0                                  35 story building  ...   \n",
      "1                                          21 Floors  ...   \n",
      "2                                                NaN  ...   \n",
      "3  Special Eligible Premises for eligible businesses  ...   \n",
      "4                                                NaN  ...   \n",
      "\n",
      "  Savings from beginning receiving benefits   Borough   Latitude  Longitude  \\\n",
      "0                                    349.78  Brooklyn  40.624784 -73.964920   \n",
      "1                                4423698.05  New York  40.712968 -74.009490   \n",
      "2                                1814542.62  New York  40.705052 -74.007199   \n",
      "3                                   6755.31  Brooklyn  40.656061 -74.007334   \n",
      "4                                3293055.08  New York  40.708546 -74.011041   \n",
      "\n",
      "  Community Board  Council District  Census Tract        BIN           BBL  \\\n",
      "0           314.0              44.0         534.0  3179818.0  3.067130e+09   \n",
      "1           101.0               1.0          21.0  1001409.0  1.001250e+09   \n",
      "2           101.0               1.0           7.0  1000875.0  1.000380e+09   \n",
      "3           307.0              38.0           2.0  3398687.0  3.006950e+09   \n",
      "4           101.0               1.0           7.0  1001026.0  1.000478e+09   \n",
      "\n",
      "                                      NTA  \n",
      "0                                 Midwood  \n",
      "1  SoHo-TriBeCa-Civic Center-Little Italy  \n",
      "2       Battery Park City-Lower Manhattan  \n",
      "3                        Sunset Park West  \n",
      "4       Battery Park City-Lower Manhattan  \n",
      "\n",
      "[5 rows x 26 columns]\n",
      "Index(['Company Name', 'company contact', 'company email', 'company phone',\n",
      "       'Address', 'City', 'State', 'Postcode', 'Industry', 'Industry descr',\n",
      "       'Company Type', 'Current fulltime', 'Job created', 'Job retain',\n",
      "       'Effective Date', 'Total Savings',\n",
      "       'Savings from beginning receiving benefits', 'Borough', 'Latitude',\n",
      "       'Longitude', 'Community Board', 'Council District', 'Census Tract',\n",
      "       'BIN', 'BBL', 'NTA'],\n",
      "      dtype='object')\n",
      "(450, 26)\n",
      "<class 'pandas.core.frame.DataFrame'>\n",
      "RangeIndex: 450 entries, 0 to 449\n",
      "Data columns (total 26 columns):\n",
      " #   Column                                     Non-Null Count  Dtype  \n",
      "---  ------                                     --------------  -----  \n",
      " 0   Company Name                               450 non-null    object \n",
      " 1   company contact                            450 non-null    object \n",
      " 2   company email                              433 non-null    object \n",
      " 3   company phone                              450 non-null    object \n",
      " 4   Address                                    450 non-null    object \n",
      " 5   City                                       450 non-null    object \n",
      " 6   State                                      450 non-null    object \n",
      " 7   Postcode                                   450 non-null    int64  \n",
      " 8   Industry                                   450 non-null    object \n",
      " 9   Industry descr                             434 non-null    object \n",
      " 10  Company Type                               450 non-null    object \n",
      " 11  Current fulltime                           446 non-null    float64\n",
      " 12  Job created                                11 non-null     float64\n",
      " 13  Job retain                                 14 non-null     float64\n",
      " 14  Effective Date                             450 non-null    object \n",
      " 15  Total Savings                              450 non-null    float64\n",
      " 16  Savings from beginning receiving benefits  450 non-null    float64\n",
      " 17  Borough                                    450 non-null    object \n",
      " 18  Latitude                                   409 non-null    float64\n",
      " 19  Longitude                                  409 non-null    float64\n",
      " 20  Community Board                            409 non-null    float64\n",
      " 21  Council District                           409 non-null    float64\n",
      " 22  Census Tract                               409 non-null    float64\n",
      " 23  BIN                                        401 non-null    float64\n",
      " 24  BBL                                        401 non-null    float64\n",
      " 25  NTA                                        409 non-null    object \n",
      "dtypes: float64(12), int64(1), object(13)\n",
      "memory usage: 91.5+ KB\n",
      "None\n",
      "Number of companies represented in the data set: 439\n",
      "Total Number of jobs created in Queens: 102\n",
      "Number of unique email domain names in the data set: 358\n",
      "                                                 NTA  Company Name  \\\n",
      "2                  Battery Park City-Lower Manhattan             9   \n",
      "9                                     Bushwick South            10   \n",
      "11          Carroll Gardens-Columbia Street-Red Hook            11   \n",
      "17                                     College Point             7   \n",
      "19                               Crown Heights North             9   \n",
      "20  DUMBO-Vinegar Hill-Downtown Brooklyn-Boerum Hill            10   \n",
      "23                                     East New York             9   \n",
      "26                                 East Williamsburg            11   \n",
      "33                                        Greenpoint            14   \n",
      "36              Hunters Point-Sunnyside-West Maspeth            75   \n",
      "37                                       Hunts Point            13   \n",
      "40                                    Manhattanville             9   \n",
      "42                                           Maspeth             9   \n",
      "46                            Mott Haven-Port Morris            14   \n",
      "59          Queensbridge-Ravenswood-Long Island City            16   \n",
      "65            SoHo-TriBeCa-Civic Center-Little Italy             5   \n",
      "67              Springfield Gardens South-Brookville             5   \n",
      "69                                          Steinway             7   \n",
      "70                                  Sunset Park West            48   \n",
      "78                        park-cemetery-etc-Brooklyn            15   \n",
      "\n",
      "    Total Savings  Job created  \n",
      "2   469890.796667          0.0  \n",
      "9    26140.455000         10.0  \n",
      "11   24337.390000          0.0  \n",
      "17   17159.372857          2.0  \n",
      "19    4036.298889          0.0  \n",
      "20   59950.340000          0.0  \n",
      "23   48433.093333         15.0  \n",
      "26   13990.626364          0.0  \n",
      "33    9753.649286          0.0  \n",
      "36   23931.398933          0.0  \n",
      "37   39246.016154         12.0  \n",
      "40    2760.888889          0.0  \n",
      "42    6658.283333         10.0  \n",
      "46   17843.937857         10.0  \n",
      "59   61830.770625          0.0  \n",
      "65   37214.024000          0.0  \n",
      "67   17757.662000          0.0  \n",
      "69   11227.155714         20.0  \n",
      "70   14316.976875          0.0  \n",
      "78   14327.419333          0.0  \n"
     ]
    },
    {
     "name": "stderr",
     "output_type": "stream",
     "text": [
      "C:\\Users\\Yerlan\\anaconda3\\lib\\site-packages\\pandas\\core\\arraylike.py:364: RuntimeWarning: invalid value encountered in log10\n",
      "  result = getattr(ufunc, method)(*inputs, **kwargs)\n"
     ]
    },
    {
     "data": {
      "image/png": "[encoded data removed]",
      "text/plain": [
       "<Figure size 432x288 with 1 Axes>"
      ]
     },
     "metadata": {
      "needs_background": "light"
     },
     "output_type": "display_data"
    },
    {
     "data": {
      "image/png": "[encoded data removed]",
      "text/plain": [
       "<Figure size 432x288 with 1 Axes>"
      ]
     },
     "metadata": {
      "needs_background": "light"
     },
     "output_type": "display_data"
    },
    {
     "data": {
      "image/png": "[encoded data removed]",
      "text/plain": [
       "<Figure size 432x288 with 1 Axes>"
      ]
     },
     "metadata": {
      "needs_background": "light"
     },
     "output_type": "display_data"
    },
    {
     "name": "stdout",
     "output_type": "stream",
     "text": [
      "    month  Job created\n",
      "0       1            0\n",
      "1       2           27\n",
      "2       3           20\n",
      "3       4            2\n",
      "4       5            2\n",
      "5       6           63\n",
      "6       7           20\n",
      "7       8            0\n",
      "8       9            0\n",
      "9      10            0\n",
      "10     11            5\n",
      "11     12           10\n"
     ]
    },
    {
     "name": "stderr",
     "output_type": "stream",
     "text": [
      "C:\\Users\\Yerlan\\AppData\\Local\\Temp/ipykernel_21168/3491737405.py:52: SettingWithCopyWarning: \n",
      "A value is trying to be set on a copy of a slice from a DataFrame.\n",
      "Try using .loc[row_indexer,col_indexer] = value instead\n",
      "\n",
      "See the caveats in the documentation: https://pandas.pydata.org/pandas-docs/stable/user_guide/indexing.html#returning-a-view-versus-a-copy\n",
      "  df_mnthly_jobs['Job created'] = df_mnthly_jobs['Job created'].fillna(0).astype(int)\n",
      "C:\\Users\\Yerlan\\AppData\\Local\\Temp/ipykernel_21168/3491737405.py:53: SettingWithCopyWarning: \n",
      "A value is trying to be set on a copy of a slice from a DataFrame.\n",
      "Try using .loc[row_indexer,col_indexer] = value instead\n",
      "\n",
      "See the caveats in the documentation: https://pandas.pydata.org/pandas-docs/stable/user_guide/indexing.html#returning-a-view-versus-a-copy\n",
      "  df_mnthly_jobs['month'] = pd.to_datetime(df_mnthly_jobs['Effective Date']).dt.month\n"
     ]
    },
    {
     "data": {
      "image/png": "[encoded data removed]",
      "text/plain": [
       "<Figure size 432x288 with 1 Axes>"
      ]
     },
     "metadata": {
      "needs_background": "light"
     },
     "output_type": "display_data"
    }
   ],
   "source": [
    "import pandas as pd\n",
    "import numpy as np\n",
    "import matplotlib.pyplot as plt\n",
    "import seaborn as sns\n",
    "\n",
    "df = pd.read_csv('Value_of_Energy_Cost_Savings_Program_Savings_for_Businesses_-_FY2020.csv')\n",
    "print(df.head())\n",
    "print(df.columns)\n",
    "print(df.shape)\n",
    "print(df.info())\n",
    "\n",
    "#How many different companies are represented in the data set\n",
    "df_unique = df['Company Name'].unique()\n",
    "print('Number of companies represented in the data set:', df_unique.shape[0])\n",
    "\n",
    "#What is the total number of jobs created for businesses in Queens?\n",
    "jobs_created = df.groupby('Borough')['Job created'].agg(sum).astype(int)\n",
    "print('Total Number of jobs created in Queens:', jobs_created[3])\n",
    "\n",
    "#How many different unique email domains names are there in the data set?\n",
    "df_emails = df['company email'].str.split(pat='@', expand=True)\n",
    "print('Number of unique email domain names in the data set:', df_emails[1].unique().shape[0])\n",
    "\n",
    "#Considering only NTAs with at least 5 listed businesses, what is the average total savings and the total jobs created for each NTA?\n",
    "df_nta = df.groupby('NTA').agg({'Company Name': 'count', 'Total Savings': 'mean', 'Job created': 'sum'}).reset_index()\n",
    "print(df_nta[df_nta['Company Name'] >= 5])\n",
    "df_nta.to_csv('NTAs_with_at_least_5_businesses.cvs')\n",
    "\n",
    "#Scatter plot of jobs created versus average savings\n",
    "avg_savings = df_nta['Total Savings']\n",
    "ln_avg_savings = np.log10(avg_savings)\n",
    "job_created = df_nta['Job created']\n",
    "_ = plt.plot(job_created, avg_savings, marker='.', linestyle='none')\n",
    "_ = plt.xlabel('Total jobs created')\n",
    "_ = plt.ylabel('Average total savings')\n",
    "plt.show()\n",
    "\n",
    "#Scatter plot of jobs created versus logarithmic scale of average savings\n",
    "ln = plt.plot(job_created, ln_avg_savings, marker='.', linestyle='none')\n",
    "ln = plt.xlabel('Total jobs created')\n",
    "ln = plt.ylabel('Average total savings')\n",
    "plt.show()\n",
    "\n",
    "#Histogram of the log of the average total savings\n",
    "plt.hist(ln_avg_savings)\n",
    "plt.xlabel('Number of log_savings')\n",
    "plt.ylabel('Count')\n",
    "plt.show()\n",
    "plt.clf()\n",
    "\n",
    "#Line plot of the total jobs created for each month\n",
    "df_mnthly_jobs = df[['Effective Date', 'Job created']]\n",
    "df_mnthly_jobs['Job created'] = df_mnthly_jobs['Job created'].fillna(0).astype(int)\n",
    "df_mnthly_jobs['month'] = pd.to_datetime(df_mnthly_jobs['Effective Date']).dt.month\n",
    "df_1 = df_mnthly_jobs.groupby('month')['Job created'].agg(sum).reset_index()\n",
    "print(df_1)\n",
    "plt.plot(df_1['month'], df_1['Job created'], marker='.')\n",
    "plt.xlabel('Month')\n",
    "plt.ylabel('Number of jobs created')\n",
    "plt.show()\n"
   ]
  },
  {
   "cell_type": "code",
   "execution_count": null,
   "id": "30093f01",
   "metadata": {},
   "outputs": [],
   "source": []
  },
  {
   "cell_type": "code",
   "execution_count": null,
   "id": "ef3d91da",
   "metadata": {},
   "outputs": [],
   "source": []
  }
 ],
 "metadata": {
  "kernelspec": {
   "display_name": "Python 3 (ipykernel)",
   "language": "python",
   "name": "python3"
  },
  "language_info": {
   "codemirror_mode": {
    "name": "ipython",
    "version": 3
   },
   "file_extension": ".py",
   "mimetype": "text/x-python",
   "name": "python",
   "nbconvert_exporter": "python",
   "pygments_lexer": "ipython3",
   "version": "3.9.7"
  }
 },
 "nbformat": 4,
 "nbformat_minor": 5
}
